{
 "cells": [
  {
   "cell_type": "code",
   "execution_count": 30,
   "metadata": {},
   "outputs": [],
   "source": [
    "import random\n",
    "from captcha.image import ImageCaptcha\n",
    "import IPython.display as display\n",
    "from PIL import Image"
   ]
  },
  {
   "cell_type": "code",
   "execution_count": 31,
   "metadata": {},
   "outputs": [],
   "source": [
    "def simpleCaptcha():\n",
    "    randInt = random.randint(1000,9999)\n",
    "    n=str(randInt)\n",
    "\n",
    "\n",
    "    image = ImageCaptcha()\n",
    "    data = image.generate(n)\n",
    "    image.write(n,'out.png')\n",
    "    \n",
    "   \n",
    "\n",
    "    image_path = 'out.png'\n",
    "    display.display(Image.open(image_path))\n",
    "    \n",
    "    \n",
    "    \n",
    "    ip=int(input('enter the number:'))\n",
    "    if ip==randInt:\n",
    "        print('correct')\n",
    "        return True\n",
    "    else:\n",
    "        simpleCaptcha()\n",
    "    "
   ]
  },
  {
   "cell_type": "code",
   "execution_count": 32,
   "metadata": {},
   "outputs": [
    {
     "data": {
      "image/png": "[encoded data removed]",
      "text/plain": [
       "<PIL.PngImagePlugin.PngImageFile image mode=RGB size=160x60 at 0x7F9C5545BBD0>"
      ]
     },
     "metadata": {},
     "output_type": "display_data"
    },
    {
     "name": "stdout",
     "output_type": "stream",
     "text": [
      "enter the number:6980\n",
      "correct\n"
     ]
    },
    {
     "data": {
      "text/plain": [
       "True"
      ]
     },
     "execution_count": 32,
     "metadata": {},
     "output_type": "execute_result"
    }
   ],
   "source": [
    "#Driver Code\n",
    "simpleCaptcha()"
   ]
  },
  {
   "cell_type": "code",
   "execution_count": null,
   "metadata": {},
   "outputs": [],
   "source": []
  }
 ],
 "metadata": {
  "kernelspec": {
   "display_name": "Python 3",
   "language": "python",
   "name": "python3"
  },
  "language_info": {
   "codemirror_mode": {
    "name": "ipython",
    "version": 3
   },
   "file_extension": ".py",
   "mimetype": "text/x-python",
   "name": "python",
   "nbconvert_exporter": "python",
   "pygments_lexer": "ipython3",
   "version": "3.7.5"
  }
 },
 "nbformat": 4,
 "nbformat_minor": 4
}
